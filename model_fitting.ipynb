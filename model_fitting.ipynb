{
 "cells": [
  {
   "cell_type": "markdown",
   "metadata": {},
   "source": [
    "## Machine Learning Model\n",
    "Input: Social Demographic Data\n",
    "Output: Binary classifier as food desert or not"
   ]
  },
  {
   "cell_type": "markdown",
   "metadata": {},
   "source": [
    "## 1. Set-up"
   ]
  },
  {
   "cell_type": "code",
   "execution_count": 105,
   "metadata": {},
   "outputs": [],
   "source": [
    "# importing packages\n",
    "import pandas as pd \n",
    "import matplotlib.pyplot as plt \n",
    "import matplotlib.colors as mcolors\n",
    "import seaborn as sns \n",
    "from itertools import combinations\n",
    "import numpy as np\n",
    "import random\n",
    "\n",
    "# model construction\n",
    "from sklearn.tree import DecisionTreeClassifier\n",
    "from sklearn.ensemble import RandomForestClassifier\n",
    "from sklearn.linear_model import LogisticRegression\n",
    "from sklearn import tree\n",
    "\n",
    "# model selection\n",
    "from sklearn.model_selection import train_test_split\n",
    "from sklearn.model_selection import GridSearchCV\n",
    "\n",
    "# model evaluation\n",
    "from sklearn import metrics\n",
    "\n",
    "# custom defined functions\n",
    "from plot_functions import *\n",
    "\n",
    "# set random seed\n",
    "random.seed(10)"
   ]
  },
  {
   "cell_type": "code",
   "execution_count": 57,
   "metadata": {},
   "outputs": [],
   "source": [
    "# setting the style\n",
    "plt.style.use('seaborn-whitegrid')\n",
    "\n",
    "# setting the annotation default font \n",
    "plt.rcParams[\"font.family\"] = \"roboto\"\n",
    "plt.rcParams[\"font.size\"] = 10\n",
    "\n",
    "plt.rcParams[\"figure.autolayout\"] = False\n",
    "\n",
    "plt.rcParams['axes.spines.right'] = False\n",
    "plt.rcParams['axes.spines.top'] = False\n",
    "plt.rcParams['axes.spines.left'] = False\n",
    "plt.rcParams['axes.spines.bottom'] = False\n"
   ]
  },
  {
   "cell_type": "markdown",
   "metadata": {},
   "source": [
    "## 2. Load the Data\n",
    "Load the food desert data"
   ]
  },
  {
   "cell_type": "code",
   "execution_count": 58,
   "metadata": {},
   "outputs": [
    {
     "data": {
      "text/html": [
       "<div>\n",
       "<style scoped>\n",
       "    .dataframe tbody tr th:only-of-type {\n",
       "        vertical-align: middle;\n",
       "    }\n",
       "\n",
       "    .dataframe tbody tr th {\n",
       "        vertical-align: top;\n",
       "    }\n",
       "\n",
       "    .dataframe thead th {\n",
       "        text-align: right;\n",
       "    }\n",
       "</style>\n",
       "<table border=\"1\" class=\"dataframe\">\n",
       "  <thead>\n",
       "    <tr style=\"text-align: right;\">\n",
       "      <th></th>\n",
       "      <th>CensusTract</th>\n",
       "      <th>State</th>\n",
       "      <th>County</th>\n",
       "      <th>LILATracts_1And10</th>\n",
       "      <th>Urban</th>\n",
       "      <th>DP03_0006PE</th>\n",
       "      <th>DP03_0088E</th>\n",
       "      <th>DP03_0119PE</th>\n",
       "      <th>DP02_0006PE</th>\n",
       "      <th>DP03_UNEMPLOY</th>\n",
       "      <th>...</th>\n",
       "      <th>state_WI</th>\n",
       "      <th>state_WV</th>\n",
       "      <th>state_WY</th>\n",
       "      <th>P001003PE/AREA</th>\n",
       "      <th>P001004PE/AREA</th>\n",
       "      <th>P001005PE/AREA</th>\n",
       "      <th>P001006PE/AREA</th>\n",
       "      <th>P001007PE/AREA</th>\n",
       "      <th>P001008PE/AREA</th>\n",
       "      <th>P001009PE/AREA</th>\n",
       "    </tr>\n",
       "  </thead>\n",
       "  <tbody>\n",
       "    <tr>\n",
       "      <th>0</th>\n",
       "      <td>1001020100</td>\n",
       "      <td>AL</td>\n",
       "      <td>Autauga</td>\n",
       "      <td>0</td>\n",
       "      <td>1</td>\n",
       "      <td>1.5</td>\n",
       "      <td>1.315654</td>\n",
       "      <td>5.0</td>\n",
       "      <td>4.6</td>\n",
       "      <td>3.724928</td>\n",
       "      <td>...</td>\n",
       "      <td>0</td>\n",
       "      <td>0</td>\n",
       "      <td>0</td>\n",
       "      <td>0.000009</td>\n",
       "      <td>1.151784e-06</td>\n",
       "      <td>7.430864e-08</td>\n",
       "      <td>7.430864e-08</td>\n",
       "      <td>0.000000e+00</td>\n",
       "      <td>7.430864e-08</td>\n",
       "      <td>1.645406e-07</td>\n",
       "    </tr>\n",
       "    <tr>\n",
       "      <th>1</th>\n",
       "      <td>1001020200</td>\n",
       "      <td>AL</td>\n",
       "      <td>Autauga</td>\n",
       "      <td>0</td>\n",
       "      <td>1</td>\n",
       "      <td>2.6</td>\n",
       "      <td>0.680042</td>\n",
       "      <td>10.7</td>\n",
       "      <td>2.1</td>\n",
       "      <td>7.601351</td>\n",
       "      <td>...</td>\n",
       "      <td>0</td>\n",
       "      <td>0</td>\n",
       "      <td>0</td>\n",
       "      <td>0.000012</td>\n",
       "      <td>1.685954e-05</td>\n",
       "      <td>6.926678e-08</td>\n",
       "      <td>6.926678e-08</td>\n",
       "      <td>0.000000e+00</td>\n",
       "      <td>3.740406e-07</td>\n",
       "      <td>3.878940e-07</td>\n",
       "    </tr>\n",
       "    <tr>\n",
       "      <th>2</th>\n",
       "      <td>1001020300</td>\n",
       "      <td>AL</td>\n",
       "      <td>Autauga</td>\n",
       "      <td>0</td>\n",
       "      <td>1</td>\n",
       "      <td>1.3</td>\n",
       "      <td>0.746100</td>\n",
       "      <td>4.5</td>\n",
       "      <td>4.1</td>\n",
       "      <td>5.573248</td>\n",
       "      <td>...</td>\n",
       "      <td>0</td>\n",
       "      <td>0</td>\n",
       "      <td>0</td>\n",
       "      <td>0.000014</td>\n",
       "      <td>3.579800e-06</td>\n",
       "      <td>6.086213e-08</td>\n",
       "      <td>9.405965e-08</td>\n",
       "      <td>2.766460e-08</td>\n",
       "      <td>1.936522e-07</td>\n",
       "      <td>4.536995e-07</td>\n",
       "    </tr>\n",
       "    <tr>\n",
       "      <th>3</th>\n",
       "      <td>1001020400</td>\n",
       "      <td>AL</td>\n",
       "      <td>Autauga</td>\n",
       "      <td>0</td>\n",
       "      <td>1</td>\n",
       "      <td>1.4</td>\n",
       "      <td>0.931753</td>\n",
       "      <td>4.9</td>\n",
       "      <td>3.5</td>\n",
       "      <td>4.397394</td>\n",
       "      <td>...</td>\n",
       "      <td>0</td>\n",
       "      <td>0</td>\n",
       "      <td>0</td>\n",
       "      <td>0.000015</td>\n",
       "      <td>6.883440e-07</td>\n",
       "      <td>3.923204e-08</td>\n",
       "      <td>6.419788e-08</td>\n",
       "      <td>1.426620e-08</td>\n",
       "      <td>7.846408e-08</td>\n",
       "      <td>1.854606e-07</td>\n",
       "    </tr>\n",
       "    <tr>\n",
       "      <th>4</th>\n",
       "      <td>1001020600</td>\n",
       "      <td>AL</td>\n",
       "      <td>Autauga</td>\n",
       "      <td>0</td>\n",
       "      <td>1</td>\n",
       "      <td>1.2</td>\n",
       "      <td>0.919672</td>\n",
       "      <td>5.8</td>\n",
       "      <td>2.5</td>\n",
       "      <td>7.971014</td>\n",
       "      <td>...</td>\n",
       "      <td>0</td>\n",
       "      <td>0</td>\n",
       "      <td>0</td>\n",
       "      <td>0.000009</td>\n",
       "      <td>2.490249e-06</td>\n",
       "      <td>3.365201e-08</td>\n",
       "      <td>3.028681e-08</td>\n",
       "      <td>3.365201e-09</td>\n",
       "      <td>2.793117e-07</td>\n",
       "      <td>2.490249e-07</td>\n",
       "    </tr>\n",
       "  </tbody>\n",
       "</table>\n",
       "<p>5 rows × 70 columns</p>\n",
       "</div>"
      ],
      "text/plain": [
       "   CensusTract State   County  LILATracts_1And10  Urban  DP03_0006PE  \\\n",
       "0   1001020100    AL  Autauga                  0      1          1.5   \n",
       "1   1001020200    AL  Autauga                  0      1          2.6   \n",
       "2   1001020300    AL  Autauga                  0      1          1.3   \n",
       "3   1001020400    AL  Autauga                  0      1          1.4   \n",
       "4   1001020600    AL  Autauga                  0      1          1.2   \n",
       "\n",
       "   DP03_0088E  DP03_0119PE  DP02_0006PE  DP03_UNEMPLOY  ...  state_WI  \\\n",
       "0    1.315654          5.0          4.6       3.724928  ...         0   \n",
       "1    0.680042         10.7          2.1       7.601351  ...         0   \n",
       "2    0.746100          4.5          4.1       5.573248  ...         0   \n",
       "3    0.931753          4.9          3.5       4.397394  ...         0   \n",
       "4    0.919672          5.8          2.5       7.971014  ...         0   \n",
       "\n",
       "   state_WV  state_WY  P001003PE/AREA  P001004PE/AREA  P001005PE/AREA  \\\n",
       "0         0         0        0.000009    1.151784e-06    7.430864e-08   \n",
       "1         0         0        0.000012    1.685954e-05    6.926678e-08   \n",
       "2         0         0        0.000014    3.579800e-06    6.086213e-08   \n",
       "3         0         0        0.000015    6.883440e-07    3.923204e-08   \n",
       "4         0         0        0.000009    2.490249e-06    3.365201e-08   \n",
       "\n",
       "   P001006PE/AREA  P001007PE/AREA  P001008PE/AREA  P001009PE/AREA  \n",
       "0    7.430864e-08    0.000000e+00    7.430864e-08    1.645406e-07  \n",
       "1    6.926678e-08    0.000000e+00    3.740406e-07    3.878940e-07  \n",
       "2    9.405965e-08    2.766460e-08    1.936522e-07    4.536995e-07  \n",
       "3    6.419788e-08    1.426620e-08    7.846408e-08    1.854606e-07  \n",
       "4    3.028681e-08    3.365201e-09    2.793117e-07    2.490249e-07  \n",
       "\n",
       "[5 rows x 70 columns]"
      ]
     },
     "execution_count": 58,
     "metadata": {},
     "output_type": "execute_result"
    }
   ],
   "source": [
    "df = pd.read_csv(\"data.csv\", index_col = 0)\n",
    "df.head()\n"
   ]
  },
  {
   "cell_type": "code",
   "execution_count": 59,
   "metadata": {},
   "outputs": [],
   "source": [
    "X = df.iloc[:,4:]\n",
    "y = df['LILATracts_1And10']\n",
    "X_train, X_test, y_train, y_test = train_test_split(X,y,test_size = 0.5, random_state=42)"
   ]
  },
  {
   "cell_type": "markdown",
   "metadata": {},
   "source": [
    "## 3. Logistic Regression"
   ]
  },
  {
   "cell_type": "code",
   "execution_count": 60,
   "metadata": {},
   "outputs": [],
   "source": [
    "logreg = LogisticRegression()"
   ]
  },
  {
   "cell_type": "code",
   "execution_count": 61,
   "metadata": {},
   "outputs": [
    {
     "data": {
      "text/html": [
       "<style>#sk-container-id-7 {color: black;}#sk-container-id-7 pre{padding: 0;}#sk-container-id-7 div.sk-toggleable {background-color: white;}#sk-container-id-7 label.sk-toggleable__label {cursor: pointer;display: block;width: 100%;margin-bottom: 0;padding: 0.3em;box-sizing: border-box;text-align: center;}#sk-container-id-7 label.sk-toggleable__label-arrow:before {content: \"▸\";float: left;margin-right: 0.25em;color: #696969;}#sk-container-id-7 label.sk-toggleable__label-arrow:hover:before {color: black;}#sk-container-id-7 div.sk-estimator:hover label.sk-toggleable__label-arrow:before {color: black;}#sk-container-id-7 div.sk-toggleable__content {max-height: 0;max-width: 0;overflow: hidden;text-align: left;background-color: #f0f8ff;}#sk-container-id-7 div.sk-toggleable__content pre {margin: 0.2em;color: black;border-radius: 0.25em;background-color: #f0f8ff;}#sk-container-id-7 input.sk-toggleable__control:checked~div.sk-toggleable__content {max-height: 200px;max-width: 100%;overflow: auto;}#sk-container-id-7 input.sk-toggleable__control:checked~label.sk-toggleable__label-arrow:before {content: \"▾\";}#sk-container-id-7 div.sk-estimator input.sk-toggleable__control:checked~label.sk-toggleable__label {background-color: #d4ebff;}#sk-container-id-7 div.sk-label input.sk-toggleable__control:checked~label.sk-toggleable__label {background-color: #d4ebff;}#sk-container-id-7 input.sk-hidden--visually {border: 0;clip: rect(1px 1px 1px 1px);clip: rect(1px, 1px, 1px, 1px);height: 1px;margin: -1px;overflow: hidden;padding: 0;position: absolute;width: 1px;}#sk-container-id-7 div.sk-estimator {font-family: monospace;background-color: #f0f8ff;border: 1px dotted black;border-radius: 0.25em;box-sizing: border-box;margin-bottom: 0.5em;}#sk-container-id-7 div.sk-estimator:hover {background-color: #d4ebff;}#sk-container-id-7 div.sk-parallel-item::after {content: \"\";width: 100%;border-bottom: 1px solid gray;flex-grow: 1;}#sk-container-id-7 div.sk-label:hover label.sk-toggleable__label {background-color: #d4ebff;}#sk-container-id-7 div.sk-serial::before {content: \"\";position: absolute;border-left: 1px solid gray;box-sizing: border-box;top: 0;bottom: 0;left: 50%;z-index: 0;}#sk-container-id-7 div.sk-serial {display: flex;flex-direction: column;align-items: center;background-color: white;padding-right: 0.2em;padding-left: 0.2em;position: relative;}#sk-container-id-7 div.sk-item {position: relative;z-index: 1;}#sk-container-id-7 div.sk-parallel {display: flex;align-items: stretch;justify-content: center;background-color: white;position: relative;}#sk-container-id-7 div.sk-item::before, #sk-container-id-7 div.sk-parallel-item::before {content: \"\";position: absolute;border-left: 1px solid gray;box-sizing: border-box;top: 0;bottom: 0;left: 50%;z-index: -1;}#sk-container-id-7 div.sk-parallel-item {display: flex;flex-direction: column;z-index: 1;position: relative;background-color: white;}#sk-container-id-7 div.sk-parallel-item:first-child::after {align-self: flex-end;width: 50%;}#sk-container-id-7 div.sk-parallel-item:last-child::after {align-self: flex-start;width: 50%;}#sk-container-id-7 div.sk-parallel-item:only-child::after {width: 0;}#sk-container-id-7 div.sk-dashed-wrapped {border: 1px dashed gray;margin: 0 0.4em 0.5em 0.4em;box-sizing: border-box;padding-bottom: 0.4em;background-color: white;}#sk-container-id-7 div.sk-label label {font-family: monospace;font-weight: bold;display: inline-block;line-height: 1.2em;}#sk-container-id-7 div.sk-label-container {text-align: center;}#sk-container-id-7 div.sk-container {/* jupyter's `normalize.less` sets `[hidden] { display: none; }` but bootstrap.min.css set `[hidden] { display: none !important; }` so we also need the `!important` here to be able to override the default hidden behavior on the sphinx rendered scikit-learn.org. See: https://github.com/scikit-learn/scikit-learn/issues/21755 */display: inline-block !important;position: relative;}#sk-container-id-7 div.sk-text-repr-fallback {display: none;}</style><div id=\"sk-container-id-7\" class=\"sk-top-container\"><div class=\"sk-text-repr-fallback\"><pre>LogisticRegression()</pre><b>In a Jupyter environment, please rerun this cell to show the HTML representation or trust the notebook. <br />On GitHub, the HTML representation is unable to render, please try loading this page with nbviewer.org.</b></div><div class=\"sk-container\" hidden><div class=\"sk-item\"><div class=\"sk-estimator sk-toggleable\"><input class=\"sk-toggleable__control sk-hidden--visually\" id=\"sk-estimator-id-7\" type=\"checkbox\" checked><label for=\"sk-estimator-id-7\" class=\"sk-toggleable__label sk-toggleable__label-arrow\">LogisticRegression</label><div class=\"sk-toggleable__content\"><pre>LogisticRegression()</pre></div></div></div></div></div>"
      ],
      "text/plain": [
       "LogisticRegression()"
      ]
     },
     "execution_count": 61,
     "metadata": {},
     "output_type": "execute_result"
    }
   ],
   "source": [
    "logreg.fit(X_train,y_train)"
   ]
  },
  {
   "cell_type": "code",
   "execution_count": 62,
   "metadata": {},
   "outputs": [],
   "source": [
    "# predict on the test set\n",
    "y_predpro_logreg = logreg.predict_proba(X_test)[:,1]"
   ]
  },
  {
   "cell_type": "code",
   "execution_count": 63,
   "metadata": {},
   "outputs": [
    {
     "name": "stdout",
     "output_type": "stream",
     "text": [
      "Accuracy:0.88, Specifity:1.00 ,Sensitivity:0.00\n"
     ]
    },
    {
     "data": {
      "image/png": "[encoded data removed]",
      "text/plain": [
       "<Figure size 432x288 with 2 Axes>"
      ]
     },
     "metadata": {},
     "output_type": "display_data"
    }
   ],
   "source": [
    "# evaluate the model\n",
    "acc_logreg, spe_logred, sen_logreg, cm_logreg = evaluation_score(y_test,y_predpro_logreg)"
   ]
  },
  {
   "cell_type": "markdown",
   "metadata": {},
   "source": [
    "From this diagram, we that the logistic regression can predict census tracts that are not food desert most the time. However, it cannot predict the food dessert very well."
   ]
  },
  {
   "cell_type": "markdown",
   "metadata": {},
   "source": [
    "## 4. Decision Tree"
   ]
  },
  {
   "cell_type": "code",
   "execution_count": 155,
   "metadata": {},
   "outputs": [
    {
     "data": {
      "text/html": [
       "<style>#sk-container-id-17 {color: black;}#sk-container-id-17 pre{padding: 0;}#sk-container-id-17 div.sk-toggleable {background-color: white;}#sk-container-id-17 label.sk-toggleable__label {cursor: pointer;display: block;width: 100%;margin-bottom: 0;padding: 0.3em;box-sizing: border-box;text-align: center;}#sk-container-id-17 label.sk-toggleable__label-arrow:before {content: \"▸\";float: left;margin-right: 0.25em;color: #696969;}#sk-container-id-17 label.sk-toggleable__label-arrow:hover:before {color: black;}#sk-container-id-17 div.sk-estimator:hover label.sk-toggleable__label-arrow:before {color: black;}#sk-container-id-17 div.sk-toggleable__content {max-height: 0;max-width: 0;overflow: hidden;text-align: left;background-color: #f0f8ff;}#sk-container-id-17 div.sk-toggleable__content pre {margin: 0.2em;color: black;border-radius: 0.25em;background-color: #f0f8ff;}#sk-container-id-17 input.sk-toggleable__control:checked~div.sk-toggleable__content {max-height: 200px;max-width: 100%;overflow: auto;}#sk-container-id-17 input.sk-toggleable__control:checked~label.sk-toggleable__label-arrow:before {content: \"▾\";}#sk-container-id-17 div.sk-estimator input.sk-toggleable__control:checked~label.sk-toggleable__label {background-color: #d4ebff;}#sk-container-id-17 div.sk-label input.sk-toggleable__control:checked~label.sk-toggleable__label {background-color: #d4ebff;}#sk-container-id-17 input.sk-hidden--visually {border: 0;clip: rect(1px 1px 1px 1px);clip: rect(1px, 1px, 1px, 1px);height: 1px;margin: -1px;overflow: hidden;padding: 0;position: absolute;width: 1px;}#sk-container-id-17 div.sk-estimator {font-family: monospace;background-color: #f0f8ff;border: 1px dotted black;border-radius: 0.25em;box-sizing: border-box;margin-bottom: 0.5em;}#sk-container-id-17 div.sk-estimator:hover {background-color: #d4ebff;}#sk-container-id-17 div.sk-parallel-item::after {content: \"\";width: 100%;border-bottom: 1px solid gray;flex-grow: 1;}#sk-container-id-17 div.sk-label:hover label.sk-toggleable__label {background-color: #d4ebff;}#sk-container-id-17 div.sk-serial::before {content: \"\";position: absolute;border-left: 1px solid gray;box-sizing: border-box;top: 0;bottom: 0;left: 50%;z-index: 0;}#sk-container-id-17 div.sk-serial {display: flex;flex-direction: column;align-items: center;background-color: white;padding-right: 0.2em;padding-left: 0.2em;position: relative;}#sk-container-id-17 div.sk-item {position: relative;z-index: 1;}#sk-container-id-17 div.sk-parallel {display: flex;align-items: stretch;justify-content: center;background-color: white;position: relative;}#sk-container-id-17 div.sk-item::before, #sk-container-id-17 div.sk-parallel-item::before {content: \"\";position: absolute;border-left: 1px solid gray;box-sizing: border-box;top: 0;bottom: 0;left: 50%;z-index: -1;}#sk-container-id-17 div.sk-parallel-item {display: flex;flex-direction: column;z-index: 1;position: relative;background-color: white;}#sk-container-id-17 div.sk-parallel-item:first-child::after {align-self: flex-end;width: 50%;}#sk-container-id-17 div.sk-parallel-item:last-child::after {align-self: flex-start;width: 50%;}#sk-container-id-17 div.sk-parallel-item:only-child::after {width: 0;}#sk-container-id-17 div.sk-dashed-wrapped {border: 1px dashed gray;margin: 0 0.4em 0.5em 0.4em;box-sizing: border-box;padding-bottom: 0.4em;background-color: white;}#sk-container-id-17 div.sk-label label {font-family: monospace;font-weight: bold;display: inline-block;line-height: 1.2em;}#sk-container-id-17 div.sk-label-container {text-align: center;}#sk-container-id-17 div.sk-container {/* jupyter's `normalize.less` sets `[hidden] { display: none; }` but bootstrap.min.css set `[hidden] { display: none !important; }` so we also need the `!important` here to be able to override the default hidden behavior on the sphinx rendered scikit-learn.org. See: https://github.com/scikit-learn/scikit-learn/issues/21755 */display: inline-block !important;position: relative;}#sk-container-id-17 div.sk-text-repr-fallback {display: none;}</style><div id=\"sk-container-id-17\" class=\"sk-top-container\"><div class=\"sk-text-repr-fallback\"><pre>DecisionTreeClassifier(min_samples_leaf=0.01)</pre><b>In a Jupyter environment, please rerun this cell to show the HTML representation or trust the notebook. <br />On GitHub, the HTML representation is unable to render, please try loading this page with nbviewer.org.</b></div><div class=\"sk-container\" hidden><div class=\"sk-item\"><div class=\"sk-estimator sk-toggleable\"><input class=\"sk-toggleable__control sk-hidden--visually\" id=\"sk-estimator-id-17\" type=\"checkbox\" checked><label for=\"sk-estimator-id-17\" class=\"sk-toggleable__label sk-toggleable__label-arrow\">DecisionTreeClassifier</label><div class=\"sk-toggleable__content\"><pre>DecisionTreeClassifier(min_samples_leaf=0.01)</pre></div></div></div></div></div>"
      ],
      "text/plain": [
       "DecisionTreeClassifier(min_samples_leaf=0.01)"
      ]
     },
     "execution_count": 155,
     "metadata": {},
     "output_type": "execute_result"
    }
   ],
   "source": [
    "# instantiate the decision tree\n",
    "dt = DecisionTreeClassifier(min_samples_leaf= 0.01)\n",
    "# fit the model\n",
    "dt.fit(X_train, y_train)"
   ]
  },
  {
   "cell_type": "code",
   "execution_count": 156,
   "metadata": {},
   "outputs": [],
   "source": [
    "# predict the ys\n",
    "y_pred_train = dt.predict(X_train)\n",
    "y_pred = dt.predict(X_test)\n"
   ]
  },
  {
   "cell_type": "code",
   "execution_count": 157,
   "metadata": {},
   "outputs": [
    {
     "name": "stdout",
     "output_type": "stream",
     "text": [
      "Accuracy:0.90, Specifity:0.98 ,Sensitivity:0.32\n"
     ]
    },
    {
     "data": {
      "text/plain": [
       "(0.8977754237288136,\n",
       " 0.9762450667167826,\n",
       " 0.31834582292533997,\n",
       " array([[25973,   632],\n",
       "        [ 2456,  1147]]))"
      ]
     },
     "execution_count": 157,
     "metadata": {},
     "output_type": "execute_result"
    },
    {
     "data": {
      "image/png": "[encoded data removed]",
      "text/plain": [
       "<Figure size 432x288 with 2 Axes>"
      ]
     },
     "metadata": {},
     "output_type": "display_data"
    }
   ],
   "source": [
    "evaluation_score(y_test, y_pred)"
   ]
  },
  {
   "cell_type": "markdown",
   "metadata": {},
   "source": [
    "From the confusion matrix, we can see there is a big improvement in terms of the sensitivity. This however, is traded-off with a loss in specificity. Now we can plot the importance of the feature to see if the result may help us identify the variables that has a higher determining power on the onset of Food Desert."
   ]
  },
  {
   "cell_type": "code",
   "execution_count": 97,
   "metadata": {},
   "outputs": [],
   "source": [
    "dt_feats = {\"Variables\": X_train.columns, \"Importance\":dt.feature_importances_}\n",
    "dt_feats = pd.DataFrame(dt_feats).sort_values(by ='Importance', ascending = True).reset_index()"
   ]
  },
  {
   "cell_type": "code",
   "execution_count": 101,
   "metadata": {},
   "outputs": [
    {
     "data": {
      "text/plain": [
       "Text(0.5, 1.0, 'Feature Importances')"
      ]
     },
     "execution_count": 101,
     "metadata": {},
     "output_type": "execute_result"
    },
    {
     "data": {
      "image/png": "[encoded data removed]",
      "text/plain": [
       "<Figure size 432x288 with 1 Axes>"
      ]
     },
     "metadata": {},
     "output_type": "display_data"
    }
   ],
   "source": [
    "# instantiate the plot object\n",
    "fig, ax = plt.subplots()\n",
    "\n",
    "dt_feats.tail(15).plot.barh(y = \"Importance\", x = \"Variables\",legend = False,ax = ax)\n",
    "ax.set_title(\"Feature Importances\")"
   ]
  },
  {
   "cell_type": "markdown",
   "metadata": {},
   "source": [
    "From the plot, we can see that the area of the census tract is the kost important factor, followed by median income and the binary label of \"Urban\". It appears that the physcial geography has a high explanatory power for the on set food desert.\n",
    "\n",
    "For details of the purity of each leaf, we also print the tree to inspect."
   ]
  },
  {
   "cell_type": "code",
   "execution_count": 106,
   "metadata": {},
   "outputs": [
    {
     "data": {
      "text/plain": [
       "[Text(0.515234375, 0.95, 'x[2] <= 0.793\\ngini = 0.212\\nsamples = 30208\\nvalue = [26574, 3634]'),\n",
       " Text(0.2203125, 0.85, 'x[9] <= 1978107.062\\ngini = 0.365\\nsamples = 11851\\nvalue = [9004, 2847]'),\n",
       " Text(0.1, 0.75, 'x[9] <= 795052.312\\ngini = 0.176\\nsamples = 4511\\nvalue = [4071, 440]'),\n",
       " Text(0.05, 0.65, 'x[64] <= 0.0\\ngini = 0.06\\nsamples = 1790\\nvalue = [1735, 55]'),\n",
       " Text(0.025, 0.55, 'x[2] <= 0.535\\ngini = 0.099\\nsamples = 1016\\nvalue = [963, 53]'),\n",
       " Text(0.0125, 0.45, 'gini = 0.131\\nsamples = 455\\nvalue = [423, 32]'),\n",
       " Text(0.0375, 0.45, 'gini = 0.072\\nsamples = 561\\nvalue = [540, 21]'),\n",
       " Text(0.075, 0.55, 'x[64] <= 0.0\\ngini = 0.005\\nsamples = 774\\nvalue = [772, 2]'),\n",
       " Text(0.0625, 0.45, 'gini = 0.013\\nsamples = 303\\nvalue = [301, 2]'),\n",
       " Text(0.0875, 0.45, 'gini = 0.0\\nsamples = 471\\nvalue = [471, 0]'),\n",
       " Text(0.15, 0.65, 'x[13] <= 0.5\\ngini = 0.243\\nsamples = 2721\\nvalue = [2336, 385]'),\n",
       " Text(0.1375, 0.55, 'x[9] <= 1306689.375\\ngini = 0.268\\nsamples = 2193\\nvalue = [1843, 350]'),\n",
       " Text(0.1125, 0.45, 'x[64] <= 0.0\\ngini = 0.222\\nsamples = 1020\\nvalue = [890, 130]'),\n",
       " Text(0.1, 0.35, 'gini = 0.256\\nsamples = 591\\nvalue = [502, 89]'),\n",
       " Text(0.125, 0.35, 'gini = 0.173\\nsamples = 429\\nvalue = [388, 41]'),\n",
       " Text(0.1625, 0.45, 'x[3] <= 23.75\\ngini = 0.305\\nsamples = 1173\\nvalue = [953, 220]'),\n",
       " Text(0.15, 0.35, 'x[9] <= 1667061.312\\ngini = 0.259\\nsamples = 687\\nvalue = [582, 105]'),\n",
       " Text(0.1375, 0.25, 'gini = 0.3\\nsamples = 381\\nvalue = [311, 70]'),\n",
       " Text(0.1625, 0.25, 'gini = 0.203\\nsamples = 306\\nvalue = [271, 35]'),\n",
       " Text(0.175, 0.35, 'gini = 0.361\\nsamples = 486\\nvalue = [371, 115]'),\n",
       " Text(0.1625, 0.55, 'gini = 0.124\\nsamples = 528\\nvalue = [493, 35]'),\n",
       " Text(0.340625, 0.75, 'x[0] <= 0.5\\ngini = 0.441\\nsamples = 7340\\nvalue = [4933, 2407]'),\n",
       " Text(0.26875, 0.65, 'x[9] <= 466053040.0\\ngini = 0.266\\nsamples = 2855\\nvalue = [2404, 451]'),\n",
       " Text(0.2375, 0.55, 'x[9] <= 230312480.0\\ngini = 0.137\\nsamples = 2247\\nvalue = [2081, 166]'),\n",
       " Text(0.2125, 0.45, 'x[9] <= 137358456.0\\ngini = 0.051\\nsamples = 1518\\nvalue = [1478, 40]'),\n",
       " Text(0.2, 0.35, 'x[9] <= 93176712.0\\ngini = 0.018\\nsamples = 968\\nvalue = [959, 9]'),\n",
       " Text(0.1875, 0.25, 'x[3] <= 13.25\\ngini = 0.009\\nsamples = 664\\nvalue = [661, 3]'),\n",
       " Text(0.175, 0.15, 'gini = 0.0\\nsamples = 309\\nvalue = [309, 0]'),\n",
       " Text(0.2, 0.15, 'gini = 0.017\\nsamples = 355\\nvalue = [352, 3]'),\n",
       " Text(0.2125, 0.25, 'gini = 0.039\\nsamples = 304\\nvalue = [298, 6]'),\n",
       " Text(0.225, 0.35, 'gini = 0.106\\nsamples = 550\\nvalue = [519, 31]'),\n",
       " Text(0.2625, 0.45, 'x[2] <= 0.668\\ngini = 0.286\\nsamples = 729\\nvalue = [603, 126]'),\n",
       " Text(0.25, 0.35, 'gini = 0.382\\nsamples = 334\\nvalue = [248, 86]'),\n",
       " Text(0.275, 0.35, 'gini = 0.182\\nsamples = 395\\nvalue = [355, 40]'),\n",
       " Text(0.3, 0.55, 'x[3] <= 12.85\\ngini = 0.498\\nsamples = 608\\nvalue = [323, 285]'),\n",
       " Text(0.2875, 0.45, 'gini = 0.443\\nsamples = 305\\nvalue = [204, 101]'),\n",
       " Text(0.3125, 0.45, 'gini = 0.477\\nsamples = 303\\nvalue = [119, 184]'),\n",
       " Text(0.4125, 0.65, 'x[9] <= 4849102.0\\ngini = 0.492\\nsamples = 4485\\nvalue = [2529, 1956]'),\n",
       " Text(0.3625, 0.55, 'x[3] <= 16.15\\ngini = 0.427\\nsamples = 2327\\nvalue = [1608, 719]'),\n",
       " Text(0.3375, 0.45, 'x[9] <= 2809041.5\\ngini = 0.369\\nsamples = 958\\nvalue = [724, 234]'),\n",
       " Text(0.325, 0.35, 'gini = 0.28\\nsamples = 463\\nvalue = [385, 78]'),\n",
       " Text(0.35, 0.35, 'gini = 0.432\\nsamples = 495\\nvalue = [339, 156]'),\n",
       " Text(0.3875, 0.45, 'x[9] <= 3416462.0\\ngini = 0.458\\nsamples = 1369\\nvalue = [884, 485]'),\n",
       " Text(0.375, 0.35, 'x[60] <= 0.0\\ngini = 0.433\\nsamples = 960\\nvalue = [656, 304]'),\n",
       " Text(0.3625, 0.25, 'gini = 0.379\\nsamples = 421\\nvalue = [314, 107]'),\n",
       " Text(0.3875, 0.25, 'gini = 0.464\\nsamples = 539\\nvalue = [342, 197]'),\n",
       " Text(0.4, 0.35, 'gini = 0.493\\nsamples = 409\\nvalue = [228, 181]'),\n",
       " Text(0.4625, 0.55, 'x[3] <= 12.65\\ngini = 0.489\\nsamples = 2158\\nvalue = [921, 1237]'),\n",
       " Text(0.4375, 0.45, 'x[2] <= 0.717\\ngini = 0.45\\nsamples = 658\\nvalue = [433, 225]'),\n",
       " Text(0.425, 0.35, 'gini = 0.494\\nsamples = 312\\nvalue = [173, 139]'),\n",
       " Text(0.45, 0.35, 'gini = 0.374\\nsamples = 346\\nvalue = [260, 86]'),\n",
       " Text(0.4875, 0.45, 'x[9] <= 8169893.0\\ngini = 0.439\\nsamples = 1500\\nvalue = [488, 1012]'),\n",
       " Text(0.475, 0.35, 'gini = 0.497\\nsamples = 531\\nvalue = [246, 285]'),\n",
       " Text(0.5, 0.35, 'x[3] <= 17.25\\ngini = 0.375\\nsamples = 969\\nvalue = [242, 727]'),\n",
       " Text(0.4875, 0.25, 'gini = 0.46\\nsamples = 307\\nvalue = [110, 197]'),\n",
       " Text(0.5125, 0.25, 'x[9] <= 16749233.5\\ngini = 0.319\\nsamples = 662\\nvalue = [132, 530]'),\n",
       " Text(0.5, 0.15, 'gini = 0.392\\nsamples = 344\\nvalue = [92, 252]'),\n",
       " Text(0.525, 0.15, 'gini = 0.22\\nsamples = 318\\nvalue = [40, 278]'),\n",
       " Text(0.81015625, 0.85, 'x[3] <= 10.15\\ngini = 0.082\\nsamples = 18357\\nvalue = [17570, 787]'),\n",
       " Text(0.7015625, 0.75, 'x[2] <= 1.035\\ngini = 0.048\\nsamples = 15329\\nvalue = [14950, 379]'),\n",
       " Text(0.603125, 0.65, 'x[6] <= 46.408\\ngini = 0.106\\nsamples = 5510\\nvalue = [5201, 309]'),\n",
       " Text(0.55, 0.55, 'x[7] <= 38.065\\ngini = 0.172\\nsamples = 2161\\nvalue = [1956, 205]'),\n",
       " Text(0.5375, 0.45, 'x[9] <= 1417008.375\\ngini = 0.15\\nsamples = 1752\\nvalue = [1609, 143]'),\n",
       " Text(0.525, 0.35, 'gini = 0.067\\nsamples = 376\\nvalue = [363, 13]'),\n",
       " Text(0.55, 0.35, 'x[0] <= 0.5\\ngini = 0.171\\nsamples = 1376\\nvalue = [1246, 130]'),\n",
       " Text(0.5375, 0.25, 'gini = 0.072\\nsamples = 346\\nvalue = [333, 13]'),\n",
       " Text(0.5625, 0.25, 'x[2] <= 0.907\\ngini = 0.201\\nsamples = 1030\\nvalue = [913, 117]'),\n",
       " Text(0.55, 0.15, 'gini = 0.26\\nsamples = 469\\nvalue = [397, 72]'),\n",
       " Text(0.575, 0.15, 'gini = 0.148\\nsamples = 561\\nvalue = [516, 45]'),\n",
       " Text(0.5625, 0.45, 'gini = 0.257\\nsamples = 409\\nvalue = [347, 62]'),\n",
       " Text(0.65625, 0.55, 'x[8] <= 21.837\\ngini = 0.06\\nsamples = 3349\\nvalue = [3245, 104]'),\n",
       " Text(0.625, 0.45, 'x[2] <= 0.863\\ngini = 0.036\\nsamples = 2123\\nvalue = [2084, 39]'),\n",
       " Text(0.6125, 0.35, 'gini = 0.074\\nsamples = 517\\nvalue = [497, 20]'),\n",
       " Text(0.6375, 0.35, 'x[5] <= 7.158\\ngini = 0.023\\nsamples = 1606\\nvalue = [1587, 19]'),\n",
       " Text(0.6125, 0.25, 'x[6] <= 54.503\\ngini = 0.01\\nsamples = 965\\nvalue = [960, 5]'),\n",
       " Text(0.6, 0.15, 'gini = 0.026\\nsamples = 303\\nvalue = [299, 4]'),\n",
       " Text(0.625, 0.15, 'x[5] <= 4.992\\ngini = 0.003\\nsamples = 662\\nvalue = [661, 1]'),\n",
       " Text(0.6125, 0.05, 'gini = 0.007\\nsamples = 303\\nvalue = [302, 1]'),\n",
       " Text(0.6375, 0.05, 'gini = 0.0\\nsamples = 359\\nvalue = [359, 0]'),\n",
       " Text(0.6625, 0.25, 'x[3] <= 5.15\\ngini = 0.043\\nsamples = 641\\nvalue = [627, 14]'),\n",
       " Text(0.65, 0.15, 'gini = 0.018\\nsamples = 328\\nvalue = [325, 3]'),\n",
       " Text(0.675, 0.15, 'gini = 0.068\\nsamples = 313\\nvalue = [302, 11]'),\n",
       " Text(0.6875, 0.45, 'x[9] <= 2143779.5\\ngini = 0.1\\nsamples = 1226\\nvalue = [1161, 65]'),\n",
       " Text(0.675, 0.35, 'gini = 0.03\\nsamples = 325\\nvalue = [320, 5]'),\n",
       " Text(0.7, 0.35, 'x[2] <= 0.882\\ngini = 0.124\\nsamples = 901\\nvalue = [841, 60]'),\n",
       " Text(0.6875, 0.25, 'gini = 0.182\\nsamples = 306\\nvalue = [275, 31]'),\n",
       " Text(0.7125, 0.25, 'gini = 0.093\\nsamples = 595\\nvalue = [566, 29]'),\n",
       " Text(0.8, 0.65, 'x[2] <= 1.131\\ngini = 0.014\\nsamples = 9819\\nvalue = [9749, 70]'),\n",
       " Text(0.75, 0.55, 'x[6] <= 44.274\\ngini = 0.046\\nsamples = 1841\\nvalue = [1798, 43]'),\n",
       " Text(0.7375, 0.45, 'gini = 0.1\\nsamples = 453\\nvalue = [429, 24]'),\n",
       " Text(0.7625, 0.45, 'x[4] <= 4.55\\ngini = 0.027\\nsamples = 1388\\nvalue = [1369, 19]'),\n",
       " Text(0.75, 0.35, 'x[3] <= 3.45\\ngini = 0.009\\nsamples = 866\\nvalue = [862, 4]'),\n",
       " Text(0.7375, 0.25, 'gini = 0.0\\nsamples = 405\\nvalue = [405, 0]'),\n",
       " Text(0.7625, 0.25, 'gini = 0.017\\nsamples = 461\\nvalue = [457, 4]'),\n",
       " Text(0.775, 0.35, 'gini = 0.056\\nsamples = 522\\nvalue = [507, 15]'),\n",
       " Text(0.85, 0.55, 'x[6] <= 41.26\\ngini = 0.007\\nsamples = 7978\\nvalue = [7951, 27]'),\n",
       " Text(0.8125, 0.45, 'x[59] <= 0.0\\ngini = 0.024\\nsamples = 1473\\nvalue = [1455, 18]'),\n",
       " Text(0.8, 0.35, 'gini = 0.081\\nsamples = 380\\nvalue = [364, 16]'),\n",
       " Text(0.825, 0.35, 'x[3] <= 5.65\\ngini = 0.004\\nsamples = 1093\\nvalue = [1091, 2]'),\n",
       " Text(0.8125, 0.25, 'gini = 0.0\\nsamples = 787\\nvalue = [787, 0]'),\n",
       " Text(0.8375, 0.25, 'gini = 0.013\\nsamples = 306\\nvalue = [304, 2]'),\n",
       " Text(0.8875, 0.45, 'x[7] <= 32.788\\ngini = 0.003\\nsamples = 6505\\nvalue = [6496, 9]'),\n",
       " Text(0.875, 0.35, 'x[2] <= 1.256\\ngini = 0.002\\nsamples = 6087\\nvalue = [6082, 5]'),\n",
       " Text(0.8625, 0.25, 'x[8] <= 25.309\\ngini = 0.007\\nsamples = 1480\\nvalue = [1475, 5]'),\n",
       " Text(0.85, 0.15, 'x[9] <= 26547638.0\\ngini = 0.002\\nsamples = 1036\\nvalue = [1035, 1]'),\n",
       " Text(0.8375, 0.05, 'gini = 0.0\\nsamples = 733\\nvalue = [733, 0]'),\n",
       " Text(0.8625, 0.05, 'gini = 0.007\\nsamples = 303\\nvalue = [302, 1]'),\n",
       " Text(0.875, 0.15, 'gini = 0.018\\nsamples = 444\\nvalue = [440, 4]'),\n",
       " Text(0.8875, 0.25, 'gini = 0.0\\nsamples = 4607\\nvalue = [4607, 0]'),\n",
       " Text(0.9, 0.35, 'gini = 0.019\\nsamples = 418\\nvalue = [414, 4]'),\n",
       " Text(0.91875, 0.75, 'x[9] <= 1303896.188\\ngini = 0.233\\nsamples = 3028\\nvalue = [2620, 408]'),\n",
       " Text(0.8875, 0.65, 'x[9] <= 719082.219\\ngini = 0.05\\nsamples = 774\\nvalue = [754, 20]'),\n",
       " Text(0.875, 0.55, 'gini = 0.004\\nsamples = 471\\nvalue = [470, 1]'),\n",
       " Text(0.9, 0.55, 'gini = 0.118\\nsamples = 303\\nvalue = [284, 19]'),\n",
       " Text(0.95, 0.65, 'x[3] <= 15.45\\ngini = 0.285\\nsamples = 2254\\nvalue = [1866, 388]'),\n",
       " Text(0.925, 0.55, 'x[6] <= 38.655\\ngini = 0.224\\nsamples = 1637\\nvalue = [1427, 210]'),\n",
       " Text(0.9125, 0.45, 'gini = 0.311\\nsamples = 545\\nvalue = [440, 105]'),\n",
       " Text(0.9375, 0.45, 'x[6] <= 49.566\\ngini = 0.174\\nsamples = 1092\\nvalue = [987, 105]'),\n",
       " Text(0.925, 0.35, 'x[7] <= 24.241\\ngini = 0.216\\nsamples = 610\\nvalue = [535, 75]'),\n",
       " Text(0.9125, 0.25, 'gini = 0.253\\nsamples = 303\\nvalue = [258, 45]'),\n",
       " Text(0.9375, 0.25, 'gini = 0.176\\nsamples = 307\\nvalue = [277, 30]'),\n",
       " Text(0.95, 0.35, 'gini = 0.117\\nsamples = 482\\nvalue = [452, 30]'),\n",
       " Text(0.975, 0.55, 'x[9] <= 3903437.25\\ngini = 0.411\\nsamples = 617\\nvalue = [439, 178]'),\n",
       " Text(0.9625, 0.45, 'gini = 0.338\\nsamples = 307\\nvalue = [241, 66]'),\n",
       " Text(0.9875, 0.45, 'gini = 0.462\\nsamples = 310\\nvalue = [198, 112]')]"
      ]
     },
     "execution_count": 106,
     "metadata": {},
     "output_type": "execute_result"
    },
    {
     "data": {
      "image/png": "[encoded data removed]",
      "text/plain": [
       "<Figure size 432x288 with 1 Axes>"
      ]
     },
     "metadata": {},
     "output_type": "display_data"
    }
   ],
   "source": [
    "tree.plot_tree(dt)"
   ]
  },
  {
   "cell_type": "markdown",
   "metadata": {},
   "source": [
    "#### 4.1 Random Forest\n",
    "From the single decision tree, we observed significant improvement in the performance in the sensitivity metric. To add more complexity to the ML model, we will consider applying a random forest classification model.\n",
    "\n",
    "As we observed, a lot of the variables in the dataframe are not useful and perhaps redundant. Namely, the state dummies do not seem to have any explanatory power. We will drop them because it may drag the model performance due to random forest's algorithm"
   ]
  },
  {
   "cell_type": "code",
   "execution_count": 143,
   "metadata": {},
   "outputs": [],
   "source": [
    "X_train_subset = X_train[dt_feats.tail(15)['Variables']]\n",
    "X_test_subset = X_test[dt_feats.tail(15)['Variables']]"
   ]
  },
  {
   "cell_type": "code",
   "execution_count": 150,
   "metadata": {},
   "outputs": [],
   "source": [
    "ranf = RandomForestClassifier(max_depth=4, oob_score=True, n_estimators=5)"
   ]
  },
  {
   "cell_type": "code",
   "execution_count": 151,
   "metadata": {},
   "outputs": [
    {
     "name": "stderr",
     "output_type": "stream",
     "text": [
      "/Users/Tra_FIT/opt/anaconda3/lib/python3.8/site-packages/sklearn/ensemble/_forest.py:578: UserWarning: Some inputs do not have OOB scores. This probably means too few trees were used to compute any reliable OOB estimates.\n",
      "  warn(\n"
     ]
    },
    {
     "data": {
      "text/html": [
       "<style>#sk-container-id-16 {color: black;}#sk-container-id-16 pre{padding: 0;}#sk-container-id-16 div.sk-toggleable {background-color: white;}#sk-container-id-16 label.sk-toggleable__label {cursor: pointer;display: block;width: 100%;margin-bottom: 0;padding: 0.3em;box-sizing: border-box;text-align: center;}#sk-container-id-16 label.sk-toggleable__label-arrow:before {content: \"▸\";float: left;margin-right: 0.25em;color: #696969;}#sk-container-id-16 label.sk-toggleable__label-arrow:hover:before {color: black;}#sk-container-id-16 div.sk-estimator:hover label.sk-toggleable__label-arrow:before {color: black;}#sk-container-id-16 div.sk-toggleable__content {max-height: 0;max-width: 0;overflow: hidden;text-align: left;background-color: #f0f8ff;}#sk-container-id-16 div.sk-toggleable__content pre {margin: 0.2em;color: black;border-radius: 0.25em;background-color: #f0f8ff;}#sk-container-id-16 input.sk-toggleable__control:checked~div.sk-toggleable__content {max-height: 200px;max-width: 100%;overflow: auto;}#sk-container-id-16 input.sk-toggleable__control:checked~label.sk-toggleable__label-arrow:before {content: \"▾\";}#sk-container-id-16 div.sk-estimator input.sk-toggleable__control:checked~label.sk-toggleable__label {background-color: #d4ebff;}#sk-container-id-16 div.sk-label input.sk-toggleable__control:checked~label.sk-toggleable__label {background-color: #d4ebff;}#sk-container-id-16 input.sk-hidden--visually {border: 0;clip: rect(1px 1px 1px 1px);clip: rect(1px, 1px, 1px, 1px);height: 1px;margin: -1px;overflow: hidden;padding: 0;position: absolute;width: 1px;}#sk-container-id-16 div.sk-estimator {font-family: monospace;background-color: #f0f8ff;border: 1px dotted black;border-radius: 0.25em;box-sizing: border-box;margin-bottom: 0.5em;}#sk-container-id-16 div.sk-estimator:hover {background-color: #d4ebff;}#sk-container-id-16 div.sk-parallel-item::after {content: \"\";width: 100%;border-bottom: 1px solid gray;flex-grow: 1;}#sk-container-id-16 div.sk-label:hover label.sk-toggleable__label {background-color: #d4ebff;}#sk-container-id-16 div.sk-serial::before {content: \"\";position: absolute;border-left: 1px solid gray;box-sizing: border-box;top: 0;bottom: 0;left: 50%;z-index: 0;}#sk-container-id-16 div.sk-serial {display: flex;flex-direction: column;align-items: center;background-color: white;padding-right: 0.2em;padding-left: 0.2em;position: relative;}#sk-container-id-16 div.sk-item {position: relative;z-index: 1;}#sk-container-id-16 div.sk-parallel {display: flex;align-items: stretch;justify-content: center;background-color: white;position: relative;}#sk-container-id-16 div.sk-item::before, #sk-container-id-16 div.sk-parallel-item::before {content: \"\";position: absolute;border-left: 1px solid gray;box-sizing: border-box;top: 0;bottom: 0;left: 50%;z-index: -1;}#sk-container-id-16 div.sk-parallel-item {display: flex;flex-direction: column;z-index: 1;position: relative;background-color: white;}#sk-container-id-16 div.sk-parallel-item:first-child::after {align-self: flex-end;width: 50%;}#sk-container-id-16 div.sk-parallel-item:last-child::after {align-self: flex-start;width: 50%;}#sk-container-id-16 div.sk-parallel-item:only-child::after {width: 0;}#sk-container-id-16 div.sk-dashed-wrapped {border: 1px dashed gray;margin: 0 0.4em 0.5em 0.4em;box-sizing: border-box;padding-bottom: 0.4em;background-color: white;}#sk-container-id-16 div.sk-label label {font-family: monospace;font-weight: bold;display: inline-block;line-height: 1.2em;}#sk-container-id-16 div.sk-label-container {text-align: center;}#sk-container-id-16 div.sk-container {/* jupyter's `normalize.less` sets `[hidden] { display: none; }` but bootstrap.min.css set `[hidden] { display: none !important; }` so we also need the `!important` here to be able to override the default hidden behavior on the sphinx rendered scikit-learn.org. See: https://github.com/scikit-learn/scikit-learn/issues/21755 */display: inline-block !important;position: relative;}#sk-container-id-16 div.sk-text-repr-fallback {display: none;}</style><div id=\"sk-container-id-16\" class=\"sk-top-container\"><div class=\"sk-text-repr-fallback\"><pre>RandomForestClassifier(max_depth=4, n_estimators=5, oob_score=True)</pre><b>In a Jupyter environment, please rerun this cell to show the HTML representation or trust the notebook. <br />On GitHub, the HTML representation is unable to render, please try loading this page with nbviewer.org.</b></div><div class=\"sk-container\" hidden><div class=\"sk-item\"><div class=\"sk-estimator sk-toggleable\"><input class=\"sk-toggleable__control sk-hidden--visually\" id=\"sk-estimator-id-16\" type=\"checkbox\" checked><label for=\"sk-estimator-id-16\" class=\"sk-toggleable__label sk-toggleable__label-arrow\">RandomForestClassifier</label><div class=\"sk-toggleable__content\"><pre>RandomForestClassifier(max_depth=4, n_estimators=5, oob_score=True)</pre></div></div></div></div></div>"
      ],
      "text/plain": [
       "RandomForestClassifier(max_depth=4, n_estimators=5, oob_score=True)"
      ]
     },
     "execution_count": 151,
     "metadata": {},
     "output_type": "execute_result"
    }
   ],
   "source": [
    "ranf.fit(X_train_subset,y_train)"
   ]
  },
  {
   "cell_type": "code",
   "execution_count": 152,
   "metadata": {},
   "outputs": [
    {
     "data": {
      "text/plain": [
       "0.8797007415254238"
      ]
     },
     "execution_count": 152,
     "metadata": {},
     "output_type": "execute_result"
    }
   ],
   "source": [
    "ranf.oob_score_"
   ]
  },
  {
   "cell_type": "code",
   "execution_count": 159,
   "metadata": {},
   "outputs": [
    {
     "name": "stdout",
     "output_type": "stream",
     "text": [
      "Accuracy:0.88, Specifity:1.00 ,Sensitivity:0.00\n"
     ]
    },
    {
     "data": {
      "text/plain": [
       "(0.8797007415254238,\n",
       " 1.0,\n",
       " 0.0,\n",
       " array([[26574,     0],\n",
       "        [ 3634,     0]]))"
      ]
     },
     "execution_count": 159,
     "metadata": {},
     "output_type": "execute_result"
    },
    {
     "data": {
      "image/png": "[encoded data removed]",
      "text/plain": [
       "<Figure size 432x288 with 2 Axes>"
      ]
     },
     "metadata": {},
     "output_type": "display_data"
    }
   ],
   "source": [
    "y_predpro_ranf = ranf.predict_proba(X_train_subset)[:,1]\n",
    "evaluation_score(y_train,y_predpro_ranf)"
   ]
  },
  {
   "cell_type": "markdown",
   "metadata": {},
   "source": [
    "We have only set up the random tree and evaluate its performance on the training data. Nonetheless, we observe that the model suffers again from the class imbalance. None of the food desert has been classified correctly."
   ]
  },
  {
   "cell_type": "code",
   "execution_count": null,
   "metadata": {},
   "outputs": [],
   "source": []
  }
 ],
 "metadata": {
  "kernelspec": {
   "display_name": "base",
   "language": "python",
   "name": "python3"
  },
  "language_info": {
   "codemirror_mode": {
    "name": "ipython",
    "version": 3
   },
   "file_extension": ".py",
   "mimetype": "text/x-python",
   "name": "python",
   "nbconvert_exporter": "python",
   "pygments_lexer": "ipython3",
   "version": "3.8.3"
  }
 },
 "nbformat": 4,
 "nbformat_minor": 2
}
