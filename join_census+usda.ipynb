{
 "cells": [
  {
   "cell_type": "code",
   "execution_count": 10,
   "metadata": {},
   "outputs": [],
   "source": [
    "import pandas as pd \n",
    "import numpy as np"
   ]
  },
  {
   "cell_type": "markdown",
   "metadata": {},
   "source": [
    "### Importing the dataframe"
   ]
  },
  {
   "cell_type": "code",
   "execution_count": 11,
   "metadata": {},
   "outputs": [],
   "source": [
    "fd_2010_cleaned = pd.read_csv(\"fd_2010_cleaned.csv\")\n",
    "fd_2010_cleaned.drop(columns = ['Unnamed: 0'], inplace = True)"
   ]
  },
  {
   "cell_type": "code",
   "execution_count": 12,
   "metadata": {},
   "outputs": [
    {
     "data": {
      "text/html": [
       "<div>\n",
       "<style scoped>\n",
       "    .dataframe tbody tr th:only-of-type {\n",
       "        vertical-align: middle;\n",
       "    }\n",
       "\n",
       "    .dataframe tbody tr th {\n",
       "        vertical-align: top;\n",
       "    }\n",
       "\n",
       "    .dataframe thead th {\n",
       "        text-align: right;\n",
       "    }\n",
       "</style>\n",
       "<table border=\"1\" class=\"dataframe\">\n",
       "  <thead>\n",
       "    <tr style=\"text-align: right;\">\n",
       "      <th></th>\n",
       "      <th>CensusTract</th>\n",
       "      <th>State</th>\n",
       "      <th>County</th>\n",
       "      <th>LILATracts_1And10</th>\n",
       "      <th>Urban</th>\n",
       "    </tr>\n",
       "  </thead>\n",
       "  <tbody>\n",
       "    <tr>\n",
       "      <th>0</th>\n",
       "      <td>1001020100</td>\n",
       "      <td>AL</td>\n",
       "      <td>Autauga</td>\n",
       "      <td>0</td>\n",
       "      <td>1</td>\n",
       "    </tr>\n",
       "    <tr>\n",
       "      <th>1</th>\n",
       "      <td>1001020200</td>\n",
       "      <td>AL</td>\n",
       "      <td>Autauga</td>\n",
       "      <td>0</td>\n",
       "      <td>1</td>\n",
       "    </tr>\n",
       "    <tr>\n",
       "      <th>2</th>\n",
       "      <td>1001020300</td>\n",
       "      <td>AL</td>\n",
       "      <td>Autauga</td>\n",
       "      <td>0</td>\n",
       "      <td>1</td>\n",
       "    </tr>\n",
       "    <tr>\n",
       "      <th>3</th>\n",
       "      <td>1001020400</td>\n",
       "      <td>AL</td>\n",
       "      <td>Autauga</td>\n",
       "      <td>0</td>\n",
       "      <td>1</td>\n",
       "    </tr>\n",
       "    <tr>\n",
       "      <th>4</th>\n",
       "      <td>1001020500</td>\n",
       "      <td>AL</td>\n",
       "      <td>Autauga</td>\n",
       "      <td>0</td>\n",
       "      <td>1</td>\n",
       "    </tr>\n",
       "  </tbody>\n",
       "</table>\n",
       "</div>"
      ],
      "text/plain": [
       "   CensusTract State   County  LILATracts_1And10  Urban\n",
       "0   1001020100    AL  Autauga                  0      1\n",
       "1   1001020200    AL  Autauga                  0      1\n",
       "2   1001020300    AL  Autauga                  0      1\n",
       "3   1001020400    AL  Autauga                  0      1\n",
       "4   1001020500    AL  Autauga                  0      1"
      ]
     },
     "execution_count": 12,
     "metadata": {},
     "output_type": "execute_result"
    }
   ],
   "source": [
    "fd_2010_cleaned.head()"
   ]
  },
  {
   "cell_type": "markdown",
   "metadata": {},
   "source": [
    "Padding the CensusTract to form a 11 digit unique code for merging"
   ]
  },
  {
   "cell_type": "code",
   "execution_count": 13,
   "metadata": {},
   "outputs": [],
   "source": [
    "fd_2010_cleaned['CensusTract'] = fd_2010_cleaned['CensusTract'].astype('str')\n",
    "fd_2010_cleaned['CensusTract'] = fd_2010_cleaned['CensusTract'].apply(lambda x: x.zfill(11))"
   ]
  },
  {
   "cell_type": "code",
   "execution_count": 14,
   "metadata": {},
   "outputs": [],
   "source": [
    "census_2010_cleaned = pd.read_csv(\"census_2010_cleaned.csv\")\n",
    "census_2010_cleaned['CensusTract'] = census_2010_cleaned['CensusTract'].astype('str')\n",
    "census_2010_cleaned['CensusTract'] = census_2010_cleaned['CensusTract'].apply(lambda x: x.zfill(11))"
   ]
  },
  {
   "cell_type": "code",
   "execution_count": 22,
   "metadata": {},
   "outputs": [],
   "source": [
    "area = pd.read_csv(\"tract_area.csv\")\n",
    "area['CensusTract'] = area['GEOID'].astype('str')\n",
    "area['CensusTract'] = area['CensusTract'].apply(lambda x: x.zfill(11))\n",
    "area = area.drop(columns =[\"GEOID\", \"LILATracts_1And10\"] )"
   ]
  },
  {
   "cell_type": "markdown",
   "metadata": {},
   "source": [
    "Merging all the dataframes into one"
   ]
  },
  {
   "cell_type": "code",
   "execution_count": 26,
   "metadata": {},
   "outputs": [],
   "source": [
    "df = pd.merge(fd_2010_cleaned, census_2010_cleaned, on = 'CensusTract')\n",
    "df = pd.merge(df, area, on = \"CensusTract\")"
   ]
  },
  {
   "cell_type": "markdown",
   "metadata": {},
   "source": [
    "# Preprocessing"
   ]
  },
  {
   "cell_type": "markdown",
   "metadata": {},
   "source": [
    "We believe that the case for Alaska and Hawaii is heterogenous compare to contiguous US. Hence, we decided to remove the two states from our study area."
   ]
  },
  {
   "cell_type": "code",
   "execution_count": 27,
   "metadata": {},
   "outputs": [],
   "source": [
    "# dropping the state of Alaska and Hawaii\n",
    "df.drop(df.index[df['State'] == 'AK'], inplace = True)\n",
    "df.drop(df.index[df['State'] == 'HI'], inplace = True)"
   ]
  },
  {
   "cell_type": "code",
   "execution_count": 28,
   "metadata": {},
   "outputs": [
    {
     "data": {
      "text/html": [
       "<div>\n",
       "<style scoped>\n",
       "    .dataframe tbody tr th:only-of-type {\n",
       "        vertical-align: middle;\n",
       "    }\n",
       "\n",
       "    .dataframe tbody tr th {\n",
       "        vertical-align: top;\n",
       "    }\n",
       "\n",
       "    .dataframe thead th {\n",
       "        text-align: right;\n",
       "    }\n",
       "</style>\n",
       "<table border=\"1\" class=\"dataframe\">\n",
       "  <thead>\n",
       "    <tr style=\"text-align: right;\">\n",
       "      <th></th>\n",
       "      <th>LILATracts_1And10</th>\n",
       "      <th>Urban</th>\n",
       "      <th>DP03_0006PE</th>\n",
       "      <th>DP03_0088E</th>\n",
       "      <th>DP03_0119PE</th>\n",
       "      <th>DP02_0006PE</th>\n",
       "      <th>P001003PE</th>\n",
       "      <th>P001004PE</th>\n",
       "      <th>P001005PE</th>\n",
       "      <th>P001006PE</th>\n",
       "      <th>P001007PE</th>\n",
       "      <th>P001008PE</th>\n",
       "      <th>P001009PE</th>\n",
       "      <th>DP03_UNEMPLOY</th>\n",
       "      <th>H004002PE</th>\n",
       "      <th>H004003PE</th>\n",
       "      <th>H004004PE</th>\n",
       "      <th>area</th>\n",
       "    </tr>\n",
       "  </thead>\n",
       "  <tbody>\n",
       "    <tr>\n",
       "      <th>count</th>\n",
       "      <td>60416.000000</td>\n",
       "      <td>60416.000000</td>\n",
       "      <td>60416.000000</td>\n",
       "      <td>60416.000000</td>\n",
       "      <td>60416.000000</td>\n",
       "      <td>60416.000000</td>\n",
       "      <td>60416.000000</td>\n",
       "      <td>60416.000000</td>\n",
       "      <td>60416.000000</td>\n",
       "      <td>60416.000000</td>\n",
       "      <td>60416.000000</td>\n",
       "      <td>60416.000000</td>\n",
       "      <td>60416.000000</td>\n",
       "      <td>60416.000000</td>\n",
       "      <td>60416.000000</td>\n",
       "      <td>60416.000000</td>\n",
       "      <td>60416.000000</td>\n",
       "      <td>6.041600e+04</td>\n",
       "    </tr>\n",
       "    <tr>\n",
       "      <th>mean</th>\n",
       "      <td>0.119786</td>\n",
       "      <td>0.769465</td>\n",
       "      <td>0.400723</td>\n",
       "      <td>27233.609259</td>\n",
       "      <td>11.486623</td>\n",
       "      <td>4.757616</td>\n",
       "      <td>71.915706</td>\n",
       "      <td>14.054224</td>\n",
       "      <td>0.986996</td>\n",
       "      <td>4.229618</td>\n",
       "      <td>0.118297</td>\n",
       "      <td>5.907888</td>\n",
       "      <td>2.787272</td>\n",
       "      <td>8.470487</td>\n",
       "      <td>43.932695</td>\n",
       "      <td>20.423404</td>\n",
       "      <td>35.643902</td>\n",
       "      <td>1.033565e+08</td>\n",
       "    </tr>\n",
       "    <tr>\n",
       "      <th>std</th>\n",
       "      <td>0.324714</td>\n",
       "      <td>0.421179</td>\n",
       "      <td>3.154642</td>\n",
       "      <td>14316.018326</td>\n",
       "      <td>11.315254</td>\n",
       "      <td>3.552253</td>\n",
       "      <td>25.992977</td>\n",
       "      <td>22.808764</td>\n",
       "      <td>4.581177</td>\n",
       "      <td>8.025331</td>\n",
       "      <td>0.335114</td>\n",
       "      <td>9.156833</td>\n",
       "      <td>1.757091</td>\n",
       "      <td>5.612966</td>\n",
       "      <td>17.713708</td>\n",
       "      <td>11.505348</td>\n",
       "      <td>22.351998</td>\n",
       "      <td>5.489711e+08</td>\n",
       "    </tr>\n",
       "    <tr>\n",
       "      <th>min</th>\n",
       "      <td>0.000000</td>\n",
       "      <td>0.000000</td>\n",
       "      <td>0.000000</td>\n",
       "      <td>762.000000</td>\n",
       "      <td>0.000000</td>\n",
       "      <td>0.000000</td>\n",
       "      <td>0.000000</td>\n",
       "      <td>0.000000</td>\n",
       "      <td>0.000000</td>\n",
       "      <td>0.000000</td>\n",
       "      <td>0.000000</td>\n",
       "      <td>0.000000</td>\n",
       "      <td>0.000000</td>\n",
       "      <td>0.000000</td>\n",
       "      <td>0.000000</td>\n",
       "      <td>0.000000</td>\n",
       "      <td>0.000000</td>\n",
       "      <td>2.215831e+04</td>\n",
       "    </tr>\n",
       "    <tr>\n",
       "      <th>25%</th>\n",
       "      <td>0.000000</td>\n",
       "      <td>1.000000</td>\n",
       "      <td>0.000000</td>\n",
       "      <td>18432.000000</td>\n",
       "      <td>3.400000</td>\n",
       "      <td>2.300000</td>\n",
       "      <td>58.265180</td>\n",
       "      <td>1.079485</td>\n",
       "      <td>0.187715</td>\n",
       "      <td>0.462935</td>\n",
       "      <td>0.000000</td>\n",
       "      <td>0.614740</td>\n",
       "      <td>1.437487</td>\n",
       "      <td>4.746835</td>\n",
       "      <td>32.161375</td>\n",
       "      <td>11.726348</td>\n",
       "      <td>17.952789</td>\n",
       "      <td>1.693802e+06</td>\n",
       "    </tr>\n",
       "    <tr>\n",
       "      <th>50%</th>\n",
       "      <td>0.000000</td>\n",
       "      <td>1.000000</td>\n",
       "      <td>0.000000</td>\n",
       "      <td>23992.000000</td>\n",
       "      <td>8.000000</td>\n",
       "      <td>4.100000</td>\n",
       "      <td>81.128554</td>\n",
       "      <td>3.881114</td>\n",
       "      <td>0.379733</td>\n",
       "      <td>1.426668</td>\n",
       "      <td>0.028727</td>\n",
       "      <td>1.849439</td>\n",
       "      <td>2.372837</td>\n",
       "      <td>7.248764</td>\n",
       "      <td>44.191163</td>\n",
       "      <td>19.300166</td>\n",
       "      <td>30.231010</td>\n",
       "      <td>4.303568e+06</td>\n",
       "    </tr>\n",
       "    <tr>\n",
       "      <th>75%</th>\n",
       "      <td>0.000000</td>\n",
       "      <td>1.000000</td>\n",
       "      <td>0.000000</td>\n",
       "      <td>32105.000000</td>\n",
       "      <td>15.900000</td>\n",
       "      <td>6.400000</td>\n",
       "      <td>92.477101</td>\n",
       "      <td>14.827888</td>\n",
       "      <td>0.763603</td>\n",
       "      <td>4.192217</td>\n",
       "      <td>0.103093</td>\n",
       "      <td>6.645819</td>\n",
       "      <td>3.791838</td>\n",
       "      <td>10.729614</td>\n",
       "      <td>56.504612</td>\n",
       "      <td>27.677403</td>\n",
       "      <td>49.574673</td>\n",
       "      <td>2.847987e+07</td>\n",
       "    </tr>\n",
       "    <tr>\n",
       "      <th>max</th>\n",
       "      <td>1.000000</td>\n",
       "      <td>1.000000</td>\n",
       "      <td>97.800000</td>\n",
       "      <td>220611.000000</td>\n",
       "      <td>100.000000</td>\n",
       "      <td>100.000000</td>\n",
       "      <td>100.000000</td>\n",
       "      <td>100.000000</td>\n",
       "      <td>99.337748</td>\n",
       "      <td>88.875103</td>\n",
       "      <td>14.657718</td>\n",
       "      <td>79.578359</td>\n",
       "      <td>50.000000</td>\n",
       "      <td>100.000000</td>\n",
       "      <td>100.000000</td>\n",
       "      <td>90.717703</td>\n",
       "      <td>100.000000</td>\n",
       "      <td>2.467695e+10</td>\n",
       "    </tr>\n",
       "  </tbody>\n",
       "</table>\n",
       "</div>"
      ],
      "text/plain": [
       "       LILATracts_1And10         Urban   DP03_0006PE     DP03_0088E  \\\n",
       "count       60416.000000  60416.000000  60416.000000   60416.000000   \n",
       "mean            0.119786      0.769465      0.400723   27233.609259   \n",
       "std             0.324714      0.421179      3.154642   14316.018326   \n",
       "min             0.000000      0.000000      0.000000     762.000000   \n",
       "25%             0.000000      1.000000      0.000000   18432.000000   \n",
       "50%             0.000000      1.000000      0.000000   23992.000000   \n",
       "75%             0.000000      1.000000      0.000000   32105.000000   \n",
       "max             1.000000      1.000000     97.800000  220611.000000   \n",
       "\n",
       "        DP03_0119PE   DP02_0006PE     P001003PE     P001004PE     P001005PE  \\\n",
       "count  60416.000000  60416.000000  60416.000000  60416.000000  60416.000000   \n",
       "mean      11.486623      4.757616     71.915706     14.054224      0.986996   \n",
       "std       11.315254      3.552253     25.992977     22.808764      4.581177   \n",
       "min        0.000000      0.000000      0.000000      0.000000      0.000000   \n",
       "25%        3.400000      2.300000     58.265180      1.079485      0.187715   \n",
       "50%        8.000000      4.100000     81.128554      3.881114      0.379733   \n",
       "75%       15.900000      6.400000     92.477101     14.827888      0.763603   \n",
       "max      100.000000    100.000000    100.000000    100.000000     99.337748   \n",
       "\n",
       "          P001006PE     P001007PE     P001008PE     P001009PE  DP03_UNEMPLOY  \\\n",
       "count  60416.000000  60416.000000  60416.000000  60416.000000   60416.000000   \n",
       "mean       4.229618      0.118297      5.907888      2.787272       8.470487   \n",
       "std        8.025331      0.335114      9.156833      1.757091       5.612966   \n",
       "min        0.000000      0.000000      0.000000      0.000000       0.000000   \n",
       "25%        0.462935      0.000000      0.614740      1.437487       4.746835   \n",
       "50%        1.426668      0.028727      1.849439      2.372837       7.248764   \n",
       "75%        4.192217      0.103093      6.645819      3.791838      10.729614   \n",
       "max       88.875103     14.657718     79.578359     50.000000     100.000000   \n",
       "\n",
       "          H004002PE     H004003PE     H004004PE          area  \n",
       "count  60416.000000  60416.000000  60416.000000  6.041600e+04  \n",
       "mean      43.932695     20.423404     35.643902  1.033565e+08  \n",
       "std       17.713708     11.505348     22.351998  5.489711e+08  \n",
       "min        0.000000      0.000000      0.000000  2.215831e+04  \n",
       "25%       32.161375     11.726348     17.952789  1.693802e+06  \n",
       "50%       44.191163     19.300166     30.231010  4.303568e+06  \n",
       "75%       56.504612     27.677403     49.574673  2.847987e+07  \n",
       "max      100.000000     90.717703    100.000000  2.467695e+10  "
      ]
     },
     "execution_count": 28,
     "metadata": {},
     "output_type": "execute_result"
    }
   ],
   "source": [
    "df.describe()"
   ]
  },
  {
   "cell_type": "code",
   "execution_count": 29,
   "metadata": {},
   "outputs": [],
   "source": [
    "# rescale DP03_0088E\n",
    "df['DP03_0088E'] = df['DP03_0088E'] / df['DP03_0088E'].mean()"
   ]
  },
  {
   "cell_type": "markdown",
   "metadata": {},
   "source": [
    "Add stats dumy variable"
   ]
  },
  {
   "cell_type": "code",
   "execution_count": 30,
   "metadata": {},
   "outputs": [],
   "source": [
    "# add state dummy\n",
    "df = df.merge(pd.get_dummies(df[\"State\"], prefix=\"state\", dtype = 'int'),\n",
    "         left_index=True, right_index= True)"
   ]
  },
  {
   "cell_type": "markdown",
   "metadata": {},
   "source": [
    "Compute the population density"
   ]
  },
  {
   "cell_type": "code",
   "execution_count": 33,
   "metadata": {},
   "outputs": [],
   "source": [
    "pop_col = [col for col in df.columns if \"P00100\" in col]\n",
    "for col in pop_col:\n",
    "    col_name = col + '/AREA'\n",
    "    df[col_name] = df[col] / df['area']"
   ]
  },
  {
   "cell_type": "code",
   "execution_count": 35,
   "metadata": {},
   "outputs": [],
   "source": [
    "df = df.drop(columns = pop_col)"
   ]
  },
  {
   "cell_type": "markdown",
   "metadata": {},
   "source": [
    "# Export File"
   ]
  },
  {
   "cell_type": "code",
   "execution_count": 36,
   "metadata": {},
   "outputs": [],
   "source": [
    "df.to_csv('data.csv')"
   ]
  },
  {
   "cell_type": "code",
   "execution_count": null,
   "metadata": {},
   "outputs": [],
   "source": []
  }
 ],
 "metadata": {
  "interpreter": {
   "hash": "0b1c91c530eda5f462e901147e46a9a324c9e2435eb658c155af04e07a2ce394"
  },
  "kernelspec": {
   "display_name": "Python 3.8.3 ('base')",
   "language": "python",
   "name": "python3"
  },
  "language_info": {
   "codemirror_mode": {
    "name": "ipython",
    "version": 3
   },
   "file_extension": ".py",
   "mimetype": "text/x-python",
   "name": "python",
   "nbconvert_exporter": "python",
   "pygments_lexer": "ipython3",
   "version": "3.8.3"
  },
  "orig_nbformat": 4
 },
 "nbformat": 4,
 "nbformat_minor": 2
}
