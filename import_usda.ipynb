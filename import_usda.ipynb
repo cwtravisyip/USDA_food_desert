{
 "cells": [
  {
   "cell_type": "markdown",
   "metadata": {},
   "source": [
    "## American Food Desert\n",
    "\n",
    "For the column details, check https://www.ers.usda.gov/data-products/food-access-research-atlas/documentation/"
   ]
  },
  {
   "cell_type": "code",
   "execution_count": 1,
   "metadata": {},
   "outputs": [],
   "source": [
    "import pandas as pd"
   ]
  },
  {
   "cell_type": "code",
   "execution_count": 3,
   "metadata": {},
   "outputs": [
    {
     "name": "stdout",
     "output_type": "stream",
     "text": [
      "Downloading started\n",
      "Downloading Completed\n"
     ]
    }
   ],
   "source": [
    "# specifying the zip file name\n",
    "url = \"https://www.ers.usda.gov/webdocs/DataFiles/80591/2010%20Food%20Access%20Research%20Atlas.zip?v=2469.7\"\n",
    "  \n",
    "# importing the requests module\n",
    "import requests\n",
    "print('Downloading started')\n",
    "\n",
    "# Downloading the file by sending the request to the URL\n",
    "req = requests.get(url)\n",
    " \n",
    "# Split URL to get the file name\n",
    "filename = url.split('/')[-1]\n",
    " \n",
    "# Writing the file to the local file system\n",
    "with open(filename,'wb') as output_file:\n",
    "    output_file.write(req.content)\n",
    "print('Downloading Completed')"
   ]
  },
  {
   "cell_type": "code",
   "execution_count": null,
   "metadata": {},
   "outputs": [],
   "source": []
  }
 ],
 "metadata": {
  "interpreter": {
   "hash": "0b1c91c530eda5f462e901147e46a9a324c9e2435eb658c155af04e07a2ce394"
  },
  "kernelspec": {
   "display_name": "Python 3.8.3 ('base')",
   "language": "python",
   "name": "python3"
  },
  "language_info": {
   "codemirror_mode": {
    "name": "ipython",
    "version": 3
   },
   "file_extension": ".py",
   "mimetype": "text/x-python",
   "name": "python",
   "nbconvert_exporter": "python",
   "pygments_lexer": "ipython3",
   "version": "3.8.3"
  },
  "orig_nbformat": 4
 },
 "nbformat": 4,
 "nbformat_minor": 2
}
